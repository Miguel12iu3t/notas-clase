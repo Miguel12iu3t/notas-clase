{
 "cells": [
  {
   "cell_type": "code",
   "execution_count": 3,
   "metadata": {},
   "outputs": [
    {
     "name": "stdout",
     "output_type": "stream",
     "text": [
      "Es menor de edad\n"
     ]
    }
   ],
   "source": [
    "#definir una edad\n",
    "edad = 10\n",
    "#comprobar si edad es mayor o igual a 18 de lo contrario dira que es menor\n",
    "if edad >= 18:\n",
    "    print(\"Es mayor de edad\");\n",
    "if edad < 18:\n",
    "    print(\"Es menor de edad\");"
   ]
  },
  {
   "cell_type": "code",
   "execution_count": 4,
   "metadata": {},
   "outputs": [
    {
     "name": "stdout",
     "output_type": "stream",
     "text": [
      "Es menor de edad\n"
     ]
    }
   ],
   "source": [
    "#definir edad\n",
    "edad = 17\n",
    "#comprobar si edad es mayor o igual a 18 de lo contrario dira que es menor\n",
    "if edad >= 18:\n",
    "    print(\"Es mayor de edad\");\n",
    "else:\n",
    "    print(\"Es menor de edad\");"
   ]
  },
  {
   "cell_type": "code",
   "execution_count": 5,
   "metadata": {},
   "outputs": [
    {
     "name": "stdout",
     "output_type": "stream",
     "text": [
      "Tienes 18 años, felicidades\n"
     ]
    }
   ],
   "source": [
    "#definimos una edad\n",
    "edad = 18\n",
    "#comprobar si edad es mayor o igual a 18 de lo contrario dira que es menor\n",
    "if edad > 18:\n",
    "    print(\"Es mayor de edad\");\n",
    "if edad == 18:\n",
    "#con un mensaje por si llegara a ser igual a 18 años\n",
    "    print(\"Tienes 18 años, felicidades\");\n",
    "else:\n",
    "    print(\"Es menor de edad\")"
   ]
  },
  {
   "cell_type": "code",
   "execution_count": 6,
   "metadata": {},
   "outputs": [
    {
     "name": "stdout",
     "output_type": "stream",
     "text": [
      "1. suma 2. resta 3. multiplicacion 4. division\n",
      "Suma : 12\n"
     ]
    }
   ],
   "source": [
    "#Escriba una calculadora con las 4 operaciones basicas usando if, elif, else\n",
    "#definimos variables\n",
    "n1 = int(input(\"primer numero\"))\n",
    "n2 = int(input(\"segundo numero\"))\n",
    "menu = f\"1. suma 2. resta 3. multiplicacion 4. division\"\n",
    "print(menu)\n",
    "#colocamos un pequeño menu con condicionales, el cual cada uno hara su respectiva operacion\n",
    "opcion = input(\"Que oprecion deseas?\")\n",
    "if opcion == \"1\":\n",
    "    print(f\"Suma : {n1 + n2}\")\n",
    "elif opcion == \"2\":\n",
    "    print(f\"Resta : {n1 - n2}\")\n",
    "elif opcion == \"3\":\n",
    "    print(f\"Multiplicacion : {n1 * n2}\")\n",
    "elif opcion == \"4\":\n",
    "    print(f\"Divicion : {n1 / n2}\")\n",
    "else:\n",
    "    print(\"opcion no valida\")\n",
    "    "
   ]
  },
  {
   "cell_type": "code",
   "execution_count": 7,
   "metadata": {},
   "outputs": [
    {
     "name": "stdout",
     "output_type": "stream",
     "text": [
      "1. suma 2. resta 3. multiplicacion 4. division\n",
      "Resta : 4\n"
     ]
    }
   ],
   "source": [
    "#definimos variables (n1,n2)\n",
    "n1 = int(input(\"primer numero\"))\n",
    "n2 = int(input(\"segundo numero\"))\n",
    "#definimos un menu\n",
    "menu = f\"1. suma 2. resta 3. multiplicacion 4. division\"\n",
    "print(menu)\n",
    "opcion = input(\"Que oprecion deseas?\")\n",
    "#utilizamos la funcion match para terner un mejor control en los datos\n",
    "match opcion:\n",
    "    case '1':\n",
    "        print(f\"Suma : {n1 + n2}\")\n",
    "    case '2':\n",
    "        print(f\"Resta : {n1 - n2}\")\n",
    "    case '3':\n",
    "        print(f\"Multiplicacion : {n1 * n2}\")\n",
    "    case '4':\n",
    "        print(f\"Divicion : {n1 / n2}\")\n",
    "    case _:\n",
    "        print(\"opcion no valida\")"
   ]
  },
  {
   "cell_type": "code",
   "execution_count": 12,
   "metadata": {},
   "outputs": [
    {
     "name": "stdout",
     "output_type": "stream",
     "text": [
      "Tienes 18 años, felicidades\n"
     ]
    }
   ],
   "source": [
    "edad = int(input(\"Introduzca su edad\"))\n",
    "\n",
    "match edad:\n",
    "    case edad if edad > 18:\n",
    "        print(f\"Eres mayor de edad, tienes {edad} años\");\n",
    "    case edad if edad == 18:\n",
    "        print(f\"Tienes {edad} años, felicidades\");\n",
    "    case edad if edad < 18:\n",
    "        print(f\"Eres menor de edad, tienes {edad} años\");"
   ]
  },
  {
   "cell_type": "code",
   "execution_count": 13,
   "metadata": {},
   "outputs": [
    {
     "data": {
      "text/plain": [
       "[1, 2, 3, 4, 5, 6]"
      ]
     },
     "execution_count": 13,
     "metadata": {},
     "output_type": "execute_result"
    }
   ],
   "source": [
    "#Listas\n",
    "lista_1 = [1,2,3,4,5,6]\n",
    "lista_1"
   ]
  },
  {
   "cell_type": "code",
   "execution_count": 14,
   "metadata": {},
   "outputs": [
    {
     "data": {
      "text/plain": [
       "[1, 2, 3, 4, 5, '6']"
      ]
     },
     "execution_count": 14,
     "metadata": {},
     "output_type": "execute_result"
    }
   ],
   "source": [
    "lista_1 = [1,2,3,4,5,'6']\n",
    "lista_1"
   ]
  },
  {
   "cell_type": "code",
   "execution_count": 15,
   "metadata": {},
   "outputs": [],
   "source": [
    "lista_1.append(5)"
   ]
  },
  {
   "cell_type": "code",
   "execution_count": 18,
   "metadata": {},
   "outputs": [
    {
     "data": {
      "text/plain": [
       "'6'"
      ]
     },
     "execution_count": 18,
     "metadata": {},
     "output_type": "execute_result"
    }
   ],
   "source": [
    "lista"
   ]
  },
  {
   "cell_type": "code",
   "execution_count": 19,
   "metadata": {},
   "outputs": [
    {
     "data": {
      "text/plain": [
       "{'llave': 'valor'}"
      ]
     },
     "execution_count": 19,
     "metadata": {},
     "output_type": "execute_result"
    }
   ],
   "source": [
    "#diccionarios\n",
    "diccionario = {\"llave\":\"valor\"}\n",
    "diccionario"
   ]
  },
  {
   "cell_type": "code",
   "execution_count": 21,
   "metadata": {},
   "outputs": [
    {
     "data": {
      "text/plain": [
       "'valor'"
      ]
     },
     "execution_count": 21,
     "metadata": {},
     "output_type": "execute_result"
    }
   ],
   "source": [
    "diccionario[\"llave\"]"
   ]
  },
  {
   "cell_type": "code",
   "execution_count": 20,
   "metadata": {},
   "outputs": [
    {
     "data": {
      "text/plain": [
       "dict_keys(['llave'])"
      ]
     },
     "execution_count": 20,
     "metadata": {},
     "output_type": "execute_result"
    }
   ],
   "source": [
    "diccionario.keys()"
   ]
  },
  {
   "cell_type": "code",
   "execution_count": 26,
   "metadata": {},
   "outputs": [
    {
     "data": {
      "text/plain": [
       "{1, 2, 3}"
      ]
     },
     "execution_count": 26,
     "metadata": {},
     "output_type": "execute_result"
    }
   ],
   "source": [
    "#conjuntos\n",
    "mi_set = {1,2,3}\n",
    "mi_set"
   ]
  },
  {
   "cell_type": "code",
   "execution_count": 29,
   "metadata": {},
   "outputs": [],
   "source": [
    "mi_set.add(5)"
   ]
  },
  {
   "cell_type": "code",
   "execution_count": 30,
   "metadata": {},
   "outputs": [
    {
     "data": {
      "text/plain": [
       "{1, 2, 3, 4, 5}"
      ]
     },
     "execution_count": 30,
     "metadata": {},
     "output_type": "execute_result"
    }
   ],
   "source": [
    "mi_set"
   ]
  },
  {
   "cell_type": "code",
   "execution_count": 36,
   "metadata": {},
   "outputs": [
    {
     "name": "stdout",
     "output_type": "stream",
     "text": [
      "[1, 1, 2, 2, 3, 3, 4, 4, 5, 5, 6, 6]\n",
      "[1, 2, 3, 4, 5, 6]\n"
     ]
    }
   ],
   "source": [
    "lista = [1,1,2,2,3,3,4,4,5,5,6,6]\n",
    "print(lista)\n",
    "print(list(set(lista)))"
   ]
  },
  {
   "cell_type": "code",
   "execution_count": 37,
   "metadata": {},
   "outputs": [
    {
     "data": {
      "text/plain": [
       "{1, 2, 3}"
      ]
     },
     "execution_count": 37,
     "metadata": {},
     "output_type": "execute_result"
    }
   ],
   "source": [
    "#tuplas\n",
    "mi_tupla = {1,2,3}\n",
    "mi_tupla"
   ]
  },
  {
   "cell_type": "code",
   "execution_count": 40,
   "metadata": {},
   "outputs": [],
   "source": [
    "mi_tupla.add(4)"
   ]
  },
  {
   "cell_type": "code",
   "execution_count": 42,
   "metadata": {},
   "outputs": [
    {
     "name": "stdout",
     "output_type": "stream",
     "text": [
      "<function operacion at 0x0000024036C499E0>\n"
     ]
    }
   ],
   "source": [
    "def operacion(a:int, b:int) ->[int, int, int, float]:\n",
    "    return [a+b, a-b, a*b, a/b]"
   ]
  },
  {
   "cell_type": "code",
   "execution_count": 43,
   "metadata": {},
   "outputs": [],
   "source": [
    "[a,b,c,d] = operacion(7,5)"
   ]
  },
  {
   "cell_type": "code",
   "execution_count": 49,
   "metadata": {},
   "outputs": [
    {
     "name": "stdout",
     "output_type": "stream",
     "text": [
      "[1, 2, 3, 4, 5]\n",
      "[1, 2, 3, 4, 5]\n",
      "[1, 2, 3, 4]\n"
     ]
    }
   ],
   "source": [
    "#slices\n",
    "lista = [1,2,3,4,5]\n",
    "print(lista)\n",
    "print(lista[:])\n",
    "print(lista[0:-1])"
   ]
  }
 ],
 "metadata": {
  "kernelspec": {
   "display_name": "Python 3",
   "language": "python",
   "name": "python3"
  },
  "language_info": {
   "codemirror_mode": {
    "name": "ipython",
    "version": 3
   },
   "file_extension": ".py",
   "mimetype": "text/x-python",
   "name": "python",
   "nbconvert_exporter": "python",
   "pygments_lexer": "ipython3",
   "version": "3.11.5"
  },
  "orig_nbformat": 4
 },
 "nbformat": 4,
 "nbformat_minor": 2
}
